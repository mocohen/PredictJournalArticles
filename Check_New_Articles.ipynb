{
 "cells": [
  {
   "cell_type": "code",
   "execution_count": 6,
   "metadata": {},
   "outputs": [],
   "source": [
    "import sqlite3\n",
    "from time import time\n",
    "import numpy as np\n",
    "import pandas as pd\n",
    "%matplotlib inline\n",
    "import matplotlib.pyplot as plt\n",
    "import itertools\n",
    "from datetime import datetime\n",
    "\n",
    "\n",
    "from sklearn.feature_extraction.text import CountVectorizer\n",
    "from sklearn.feature_extraction.text import TfidfTransformer\n",
    "from sklearn.utils import shuffle\n",
    "from sklearn.naive_bayes import MultinomialNB\n",
    "from sklearn.linear_model import SGDClassifier\n",
    "from sklearn.pipeline import Pipeline\n",
    "from sklearn.model_selection import cross_val_score\n",
    "from sklearn.model_selection import train_test_split\n",
    "from sklearn.model_selection import GridSearchCV\n",
    "from sklearn import metrics\n",
    "\n",
    "import parse_crossref"
   ]
  },
  {
   "cell_type": "markdown",
   "metadata": {},
   "source": [
    "## Add New Articles to DB\n",
    "\n",
    "Use crossref to add articles from the last couple of weeks"
   ]
  },
  {
   "cell_type": "code",
   "execution_count": 2,
   "metadata": {},
   "outputs": [
    {
     "name": "stdout",
     "output_type": "stream",
     "text": [
      "ACS Central Science 2374-7943\n",
      "ACS Medicinal Chemistry Letters 1948-5875\n",
      "ACS Nano 1936-0851\n",
      "Accounts of Chemical Research 0001-4842\n",
      "Annual Reports in Computational Chemistry 1574-1400\n",
      "Biochimica et Biophysica Acta (BBA) - Biomembranes 0005-2736\n",
      "Biophysical Chemistry 0301-4622\n",
      "Biophysical Journal 0006-3495\n",
      "Biophysical Reviews 1867-2450\n",
      "Chemical Physics 0301-0104\n",
      "Chemical Physics Letters 0009-2614\n",
      "Chemical Society Reviews 0306-0012\n",
      "Chemistry and Physics of Lipids 0009-3084\n",
      "Computational and Structural Biotechnology Journal 2001-0370\n",
      "Computational and Theoretical Chemistry 2210-271X\n",
      "Computer Physics Communications 0010-4655\n",
      "Current Biology 0960-9822\n",
      "Current Opinion in Cell Biology 0955-0674\n",
      "Cytoskeleton 1949-3584\n",
      "FEBS Letters 0014-5793\n",
      "Journal of Biological Physics 0092-0606\n",
      "Journal of Biomechanics 0021-9290\n",
      "Journal of Biomolecular Structure and Dynamics 0739-1102\n",
      "Journal of Chemical Information and Modeling 1549-9596\n",
      "Journal of Chemical Sciences 0974-3626\n",
      "Journal of Chemical Theory and Computation 1549-9618\n",
      "Journal of Computational Biology 1557-8666\n",
      "Journal of Computational Chemistry 0192-8651\n",
      "Journal of Computational Physics 0021-9991\n",
      "Journal of Medicinal Chemistry 0022-2623\n",
      "Journal of Molecular Biology 0022-2836\n",
      "Journal of Molecular Modeling 1610-2940\n",
      "Journal of Physics: Condensed Matter 0953-8984\n",
      "Journal of Polymer Research 1022-9760\n",
      "Journal of Proteomics 1874-3919\n",
      "Journal of Structural Biology 1047-8477\n",
      "Journal of Theoretical Biology 0022-5193\n",
      "Journal of the American Chemical Society 0002-7863\n",
      "Journal of the Mechanical Behavior of Biomedical Materials 1751-6161\n",
      "Langmuir 0743-7463\n",
      "Macromolecules 0024-9297\n",
      "Molecular Biology of the Cell 1059-1524\n",
      "Molecular Cell 1097-2765\n",
      "Molecular Informatics 1868-1743\n",
      "Multibody System Dynamics 1384-5640\n",
      "Nature Chemistry 1755-4330\n",
      "Nature Communications 2041-1723\n",
      "Nature Nanotechnology 1748-3387\n",
      "Neuroscience Letters 0304-3940\n",
      "Organic & Biomolecular Chemistry 1477-0520\n",
      "PLOS Computational Biology 1553-7358\n",
      "PLOS ONE 1932-6203\n",
      "Physical Chemistry Chemical Physics 1463-9076\n",
      "Physical Review E 2470-0045\n",
      "Physical Review Letters 0031-9007\n",
      "Physical Review X 2160-3308\n",
      "Physics Reports 0370-1573\n",
      "Physics of Fluids 1070-6631\n",
      "Physics of Life Reviews 1571-0645\n",
      "Proceedings of the National Academy of Sciences 0027-8424\n",
      "Protein Science 0961-8368\n",
      "Proteins: Structure, Function, and Bioinformatics 0887-3585\n",
      "RSC Advances 2046-2069\n",
      "Science 0036-8075\n",
      "Science Advances 2375-2548\n",
      "Scientific Reports 2045-2322\n",
      "Soft Matter 1744-683X\n",
      "SoftwareX 2352-7110\n",
      "Structural and Mechanistic Enzymology 1876-1623\n",
      "The EMBO Journal 0261-4189\n",
      "The European Physical Journal E 1292-8941\n",
      "The Journal of Chemical Physics 0021-9606\n",
      "The Journal of Membrane Biology 0022-2631\n",
      "The Journal of Physical Chemistry A 1089-5639\n",
      "The Journal of Physical Chemistry B 1520-6106\n",
      "The Journal of Physical Chemistry C 1932-7447\n",
      "The Journal of Physical Chemistry Letters 1948-7185\n",
      "Theoretical Chemistry Accounts 1432-881X\n",
      "bioRxiv \n"
     ]
    }
   ],
   "source": [
    "doi_retreiver = parse_crossref.DOIRetreiver()\n",
    "\n",
    "db_file = 'test.db'\n",
    "conn = sqlite3.connect(db_file)\n",
    "\n",
    "for journal, issn in parse_crossref.retreive_all_journals(conn):\n",
    "    print(journal, issn)\n",
    "    parse_crossref.add_all_journal_articles(conn, issn, '2018-05-31', '2018-06-15', doi_retreiver)"
   ]
  },
  {
   "cell_type": "markdown",
   "metadata": {},
   "source": [
    "## Loading Model \n",
    "\n",
    "We can load the model that we previously built using `joblib`"
   ]
  },
  {
   "cell_type": "code",
   "execution_count": 3,
   "metadata": {},
   "outputs": [],
   "source": [
    "from sklearn.externals import joblib\n",
    "grid_search = joblib.load('model.pkl') "
   ]
  },
  {
   "cell_type": "markdown",
   "metadata": {},
   "source": [
    "## Retreiving Newest Articles From Database\n",
    "\n",
    "Here, we use `sqlite3` to retreive all of the new articles."
   ]
  },
  {
   "cell_type": "code",
   "execution_count": 11,
   "metadata": {},
   "outputs": [],
   "source": [
    "db_file = 'test.db'\n",
    "db_conn = sqlite3.connect(db_file, detect_types=sqlite3.PARSE_DECLTYPES|sqlite3.PARSE_COLNAMES)\n",
    "c = db_conn.cursor()\n",
    "\n",
    "\n",
    "article_titles = []\n",
    "article_dois = []\n",
    "results = c.execute('SELECT title, DOI FROM Articles WHERE created_at > ? and isVoth=0', ('2018-05-30 00:00:00',))\n",
    "for title, doi in results:\n",
    "    if 'Spotlights' not in title and 'Editorial' not in title and 'News at a glance' not in title:\n",
    "        article_titles.append(title)\n",
    "        article_dois.append(doi)\n",
    "\n"
   ]
  },
  {
   "cell_type": "markdown",
   "metadata": {},
   "source": [
    "## Predict Relevant Articles\n",
    "\n",
    "Since we already have a model, it is super simple to just predict relevant articles. Here, I use the best paramters for the linear SVM as determined by cross validation."
   ]
  },
  {
   "cell_type": "code",
   "execution_count": 12,
   "metadata": {},
   "outputs": [],
   "source": [
    "predicted = grid_search.best_estimator_.predict(article_titles)"
   ]
  },
  {
   "cell_type": "markdown",
   "metadata": {},
   "source": [
    "Let's take a look at the articles and see which ones I should take a look at."
   ]
  },
  {
   "cell_type": "code",
   "execution_count": 18,
   "metadata": {},
   "outputs": [
    {
     "name": "stdout",
     "output_type": "stream",
     "text": [
      "#title\n",
      "1 http://dx.doi.org/10.1016/j.bpj.2018.04.022 Phospholipid Chain Interactions with Cholesterol Drive Domain Formation in Lipid Membranes\n",
      "2 http://dx.doi.org/10.1016/j.bpj.2018.04.042 Lipid Configurations from Molecular Dynamics Simulations\n",
      "3 http://dx.doi.org/10.1002/jcc.25348 Coarse-grained molecular dynamics simulations of polymerization with forward and backward reactions\n",
      "4 http://dx.doi.org/10.1016/j.jcp.2018.06.015 An integral equation approach to calculate electrostatic interactions in many-body dielectric systems\n",
      "5 http://dx.doi.org/10.1371/journal.pone.0197815 Integration of in vitro and in silico perspectives to explain chemical characterization, biological potential and anticancer effects of Hypericum salsugineum: A pharmacologically active source for functional drug formulations\n",
      "6 http://dx.doi.org/10.1371/journal.pone.0198276 External release of entropy by synchronized movements of local secondary structures drives folding of a small, disulfide-bonded protein\n",
      "7 http://dx.doi.org/10.1039/c8cp02246a How Low-Resolution Structural Data Predict the Conformational Changes of a Protein: A Study on Data-Driven Molecular Dynamics Simulations\n",
      "8 http://dx.doi.org/10.1039/c8cp03156h The Effects of Implicit Modeling of Nonpolar Solvation on Protein Folding Simulation\n",
      "9 http://dx.doi.org/10.1039/c8cp03086c Generalization of the elastic network model for the study of large conformational changes in biomolecules\n",
      "10 http://dx.doi.org/10.1063/1.5028389 Proton dynamics and the phase diagram of dense water ice\n",
      "11 http://dx.doi.org/10.1063/1.5027479 Endpoint-restricted adiabatic free energy dynamics approach for the exploration of biomolecular conformational equilibria\n",
      "12 http://dx.doi.org/10.1063/1.5018884 Structure and permeability of ionomers studied by atomistic molecular simulation combined with the theory of solutions in the energy representation\n",
      "13 http://dx.doi.org/10.1063/1.5037045 Stochastic thermodynamics and entropy production of chemical reaction systems\n",
      "14 http://dx.doi.org/10.1063/1.5029879 The potential for machine learning in hybrid QM/MM calculations\n",
      "15 http://dx.doi.org/10.1063/1.5027392 Advances in enhanced sampling along adaptive paths of collective variables\n",
      "16 http://dx.doi.org/10.1007/s00214-018-2265-5 A simple and operational test for external connectivity of tensors in many-body methods\n"
     ]
    }
   ],
   "source": [
    "print('#title')\n",
    "num = 0\n",
    "for i, val in enumerate(predicted):\n",
    "    if val == 1:\n",
    "        print( str(num+1), 'http://dx.doi.org/' + article_dois[i], article_titles[i])\n",
    "        num += 1"
   ]
  },
  {
   "cell_type": "code",
   "execution_count": null,
   "metadata": {},
   "outputs": [],
   "source": []
  }
 ],
 "metadata": {
  "kernelspec": {
   "display_name": "Python 3",
   "language": "python",
   "name": "python3"
  },
  "language_info": {
   "codemirror_mode": {
    "name": "ipython",
    "version": 3
   },
   "file_extension": ".py",
   "mimetype": "text/x-python",
   "name": "python",
   "nbconvert_exporter": "python",
   "pygments_lexer": "ipython3",
   "version": "3.6.4"
  }
 },
 "nbformat": 4,
 "nbformat_minor": 2
}
